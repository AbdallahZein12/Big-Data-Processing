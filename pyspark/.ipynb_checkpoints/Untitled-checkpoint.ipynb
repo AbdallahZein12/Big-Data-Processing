{
 "cells": [
  {
   "cell_type": "markdown",
   "id": "62e0aebe-1023-41c9-8f46-ee58c33f8133",
   "metadata": {},
   "source": [
    "<hr style='margin-bottom:30px;'>\n",
    "\n",
    "# Pyspark Tutorial !"
   ]
  },
  {
   "cell_type": "markdown",
   "id": "16aeecdc-2432-4a2f-9cf2-54338bc09dd3",
   "metadata": {},
   "source": [
    "## Part 1"
   ]
  },
  {
   "cell_type": "code",
   "execution_count": 26,
   "id": "358cc820-2b68-40a7-8a1f-da0da2c739ac",
   "metadata": {},
   "outputs": [
    {
     "name": "stdout",
     "output_type": "stream",
     "text": [
      "Requirement already satisfied: pyspark in c:\\users\\abdal\\anaconda3\\lib\\site-packages (3.5.1)\n",
      "Requirement already satisfied: py4j==0.10.9.7 in c:\\users\\abdal\\anaconda3\\lib\\site-packages (from pyspark) (0.10.9.7)\n"
     ]
    }
   ],
   "source": [
    "!pip install pyspark "
   ]
  },
  {
   "cell_type": "code",
   "execution_count": 27,
   "id": "da061ab0-da52-46e6-944e-8a4937ec8e0c",
   "metadata": {},
   "outputs": [],
   "source": [
    "from pyspark.sql import SparkSession"
   ]
  },
  {
   "cell_type": "code",
   "execution_count": 28,
   "id": "bba62301-1202-4164-9a87-c0e2e519db3c",
   "metadata": {},
   "outputs": [],
   "source": [
    "spark=SparkSession.builder.appName('Practice').getOrCreate()"
   ]
  },
  {
   "cell_type": "code",
   "execution_count": 29,
   "id": "81bcbf8f-9e89-43cd-b972-93e4c2f22bd4",
   "metadata": {},
   "outputs": [
    {
     "data": {
      "text/html": [
       "\n",
       "            <div>\n",
       "                <p><b>SparkSession - in-memory</b></p>\n",
       "                \n",
       "        <div>\n",
       "            <p><b>SparkContext</b></p>\n",
       "\n",
       "            <p><a href=\"http://LAPTOP-T5AG69LI:4040\">Spark UI</a></p>\n",
       "\n",
       "            <dl>\n",
       "              <dt>Version</dt>\n",
       "                <dd><code>v3.5.1</code></dd>\n",
       "              <dt>Master</dt>\n",
       "                <dd><code>local[*]</code></dd>\n",
       "              <dt>AppName</dt>\n",
       "                <dd><code>Practise</code></dd>\n",
       "            </dl>\n",
       "        </div>\n",
       "        \n",
       "            </div>\n",
       "        "
      ],
      "text/plain": [
       "<pyspark.sql.session.SparkSession at 0x212df3be910>"
      ]
     },
     "execution_count": 29,
     "metadata": {},
     "output_type": "execute_result"
    }
   ],
   "source": [
    "spark"
   ]
  },
  {
   "cell_type": "code",
   "execution_count": 30,
   "id": "e5b14774-e947-4d1e-a927-d23470981fa5",
   "metadata": {
    "tags": []
   },
   "outputs": [
    {
     "data": {
      "text/plain": [
       "DataFrame[_c0: string, _c1: string, _c2: string, _c3: string, _c4: string, _c5: string]"
      ]
     },
     "execution_count": 30,
     "metadata": {},
     "output_type": "execute_result"
    }
   ],
   "source": [
    "df_pyspark=spark.read.csv('higher_ed_employee_salaries.csv')\n",
    "df_pyspark"
   ]
  },
  {
   "cell_type": "code",
   "execution_count": 31,
   "id": "b18b9ecf-406c-461b-b475-ab6f357396f5",
   "metadata": {
    "tags": []
   },
   "outputs": [
    {
     "name": "stdout",
     "output_type": "stream",
     "text": [
      "+------------------+--------------------+--------------------+--------------------+---------+----+\n",
      "|               _c0|                 _c1|                 _c2|                 _c3|      _c4| _c5|\n",
      "+------------------+--------------------+--------------------+--------------------+---------+----+\n",
      "|              Name|              School|     Job Description|          Department| Earnings|Year|\n",
      "|        Don Potter| University of Akron|  Assistant Lecturer|         Social Work|   2472.0|2019|\n",
      "|      Emily Potter|The Ohio State Un...|Administrative As...|Arts and Sciences...| 48538.02|2022|\n",
      "| Carol Jean Potter|The Ohio State Un...|Associate Profess...|          Pediatrics|  22722.8|2013|\n",
      "|        Kim Potter|The Ohio State Un...|Manager 4, Compli...|Legal Affairs | C...|170143.44|2022|\n",
      "|     Graham Potter|    Miami University|Building and Grou...|Assoc VP Housing,...|   3075.2|2012|\n",
      "|     Amanda Potter|The Ohio State Un...| Program Coordinator|       WCA-Education| 48806.72|2013|\n",
      "|Susan Marie Potter|The Ohio State Un...|     Program Manager|  College of Nursing|  65216.0|2013|\n",
      "|    Katrina Potter|    Miami University|Personnel Technician|VP for Acad Affrs...| 24324.14|2012|\n",
      "|Pamela Lynn Potter|Bowling Green Sta...|Administrative As...|Center for Teachi...| 51496.58|2012|\n",
      "| Kimberly J Potter|The Ohio State Un...|Policy Anlyst/Com...|Legal Affairs Adm...|  20868.0|2015|\n",
      "|       Adam Potter|The Ohio State Un...|Assistant Profess...|Medicine | IM Car...|182512.15|2022|\n",
      "|      Maria Potter|Central State Uni...| Program Coordinator|SAFRA: 2018-2019 ...| 39999.96|2018|\n",
      "|      Scott Potter|The Ohio State Un...|         Director-00|          University|254467.84|2021|\n",
      "|     Ryan M Potter|The Ohio State Un...|     Assistant Coach|           Athletics|  48863.8|2013|\n",
      "|     Archie Potter|     Ohio University|         Facilitator|LLL Undergrad Online|   2450.0|2014|\n",
      "|   Jesse W. Potter|Youngstown State ...|  Assistant Director|Athletic Administ...|  45547.2|2015|\n",
      "|        Kim Potter|The Ohio State Un...|         Director-00|          University|125232.25|2021|\n",
      "| Carol Jean Potter|The Ohio State Un...|Associate Profess...|          Pediatrics| 28444.65|2015|\n",
      "|   Kimberly Potter|The Ohio State Un...|         Director-00|Legal Affairs Adm...| 109248.0|2020|\n",
      "+------------------+--------------------+--------------------+--------------------+---------+----+\n",
      "only showing top 20 rows\n",
      "\n"
     ]
    }
   ],
   "source": [
    "df_pyspark.show()"
   ]
  },
  {
   "cell_type": "code",
   "execution_count": 32,
   "id": "ba330532-3add-4e3b-8585-ab81126066f8",
   "metadata": {
    "tags": []
   },
   "outputs": [
    {
     "name": "stdout",
     "output_type": "stream",
     "text": [
      "+--------------------+--------------------+--------------------+--------------------+---------+----+\n",
      "|                Name|              School|     Job Description|          Department| Earnings|Year|\n",
      "+--------------------+--------------------+--------------------+--------------------+---------+----+\n",
      "|          Don Potter| University of Akron|  Assistant Lecturer|         Social Work|   2472.0|2019|\n",
      "|        Emily Potter|The Ohio State Un...|Administrative As...|Arts and Sciences...| 48538.02|2022|\n",
      "|   Carol Jean Potter|The Ohio State Un...|Associate Profess...|          Pediatrics|  22722.8|2013|\n",
      "|          Kim Potter|The Ohio State Un...|Manager 4, Compli...|Legal Affairs | C...|170143.44|2022|\n",
      "|       Graham Potter|    Miami University|Building and Grou...|Assoc VP Housing,...|   3075.2|2012|\n",
      "|       Amanda Potter|The Ohio State Un...| Program Coordinator|       WCA-Education| 48806.72|2013|\n",
      "|  Susan Marie Potter|The Ohio State Un...|     Program Manager|  College of Nursing|  65216.0|2013|\n",
      "|      Katrina Potter|    Miami University|Personnel Technician|VP for Acad Affrs...| 24324.14|2012|\n",
      "|  Pamela Lynn Potter|Bowling Green Sta...|Administrative As...|Center for Teachi...| 51496.58|2012|\n",
      "|   Kimberly J Potter|The Ohio State Un...|Policy Anlyst/Com...|Legal Affairs Adm...|  20868.0|2015|\n",
      "|         Adam Potter|The Ohio State Un...|Assistant Profess...|Medicine | IM Car...|182512.15|2022|\n",
      "|        Maria Potter|Central State Uni...| Program Coordinator|SAFRA: 2018-2019 ...| 39999.96|2018|\n",
      "|        Scott Potter|The Ohio State Un...|         Director-00|          University|254467.84|2021|\n",
      "|       Ryan M Potter|The Ohio State Un...|     Assistant Coach|           Athletics|  48863.8|2013|\n",
      "|       Archie Potter|     Ohio University|         Facilitator|LLL Undergrad Online|   2450.0|2014|\n",
      "|     Jesse W. Potter|Youngstown State ...|  Assistant Director|Athletic Administ...|  45547.2|2015|\n",
      "|          Kim Potter|The Ohio State Un...|         Director-00|          University|125232.25|2021|\n",
      "|   Carol Jean Potter|The Ohio State Un...|Associate Profess...|          Pediatrics| 28444.65|2015|\n",
      "|     Kimberly Potter|The Ohio State Un...|         Director-00|Legal Affairs Adm...| 109248.0|2020|\n",
      "|Richard Scott Potter|The Ohio State Un...| Research Specialist|Office of Energy ...| 130120.0|2013|\n",
      "+--------------------+--------------------+--------------------+--------------------+---------+----+\n",
      "only showing top 20 rows\n",
      "\n"
     ]
    }
   ],
   "source": [
    "df_pyspark=spark.read.option('header','true').csv('higher_ed_employee_salaries.csv')\n",
    "df_pyspark.show()"
   ]
  },
  {
   "cell_type": "code",
   "execution_count": 33,
   "id": "5ee0c5f0-ceaf-4f56-9419-d5911172b47e",
   "metadata": {
    "tags": []
   },
   "outputs": [
    {
     "data": {
      "text/plain": [
       "pyspark.sql.dataframe.DataFrame"
      ]
     },
     "execution_count": 33,
     "metadata": {},
     "output_type": "execute_result"
    }
   ],
   "source": [
    "type(df_pyspark)"
   ]
  },
  {
   "cell_type": "code",
   "execution_count": 34,
   "id": "8232f724-f6bb-41ef-a1f7-8d3eb910fd08",
   "metadata": {
    "tags": []
   },
   "outputs": [
    {
     "name": "stdout",
     "output_type": "stream",
     "text": [
      "root\n",
      " |-- Name: string (nullable = true)\n",
      " |-- School: string (nullable = true)\n",
      " |-- Job Description: string (nullable = true)\n",
      " |-- Department: string (nullable = true)\n",
      " |-- Earnings: string (nullable = true)\n",
      " |-- Year: string (nullable = true)\n",
      "\n"
     ]
    }
   ],
   "source": [
    "df_pyspark.printSchema()"
   ]
  },
  {
   "cell_type": "markdown",
   "id": "f16e0b52-7514-4226-8990-20cbc787b5b5",
   "metadata": {},
   "source": [
    "## Part 2 "
   ]
  },
  {
   "cell_type": "code",
   "execution_count": 72,
   "id": "b19f2753-22b6-4c54-a513-4410bd8042e1",
   "metadata": {
    "tags": []
   },
   "outputs": [],
   "source": [
    "import pyspark\n",
    "from pyspark.sql import SparkSession"
   ]
  },
  {
   "cell_type": "code",
   "execution_count": 73,
   "id": "854d136c-9981-4d50-977f-c693b50f1dc8",
   "metadata": {
    "tags": []
   },
   "outputs": [],
   "source": [
    "spark = SparkSession.builder.appName('Practice').getOrCreate()"
   ]
  },
  {
   "cell_type": "code",
   "execution_count": 74,
   "id": "d1128476-923d-4c66-a4f4-e5f5c9671ed4",
   "metadata": {
    "tags": []
   },
   "outputs": [
    {
     "data": {
      "text/html": [
       "\n",
       "            <div>\n",
       "                <p><b>SparkSession - in-memory</b></p>\n",
       "                \n",
       "        <div>\n",
       "            <p><b>SparkContext</b></p>\n",
       "\n",
       "            <p><a href=\"http://LAPTOP-T5AG69LI:4040\">Spark UI</a></p>\n",
       "\n",
       "            <dl>\n",
       "              <dt>Version</dt>\n",
       "                <dd><code>v3.5.1</code></dd>\n",
       "              <dt>Master</dt>\n",
       "                <dd><code>local[*]</code></dd>\n",
       "              <dt>AppName</dt>\n",
       "                <dd><code>Practise</code></dd>\n",
       "            </dl>\n",
       "        </div>\n",
       "        \n",
       "            </div>\n",
       "        "
      ],
      "text/plain": [
       "<pyspark.sql.session.SparkSession at 0x212df3be910>"
      ]
     },
     "execution_count": 74,
     "metadata": {},
     "output_type": "execute_result"
    }
   ],
   "source": [
    "spark"
   ]
  },
  {
   "cell_type": "code",
   "execution_count": 75,
   "id": "ae7fdd65-842c-48ea-9ea6-ffad73242ba5",
   "metadata": {
    "tags": []
   },
   "outputs": [
    {
     "name": "stdout",
     "output_type": "stream",
     "text": [
      "+--------------------+--------------------+--------------------+--------------------+---------+----+\n",
      "|                Name|              School|     Job Description|          Department| Earnings|Year|\n",
      "+--------------------+--------------------+--------------------+--------------------+---------+----+\n",
      "|          Don Potter| University of Akron|  Assistant Lecturer|         Social Work|   2472.0|2019|\n",
      "|        Emily Potter|The Ohio State Un...|Administrative As...|Arts and Sciences...| 48538.02|2022|\n",
      "|   Carol Jean Potter|The Ohio State Un...|Associate Profess...|          Pediatrics|  22722.8|2013|\n",
      "|          Kim Potter|The Ohio State Un...|Manager 4, Compli...|Legal Affairs | C...|170143.44|2022|\n",
      "|       Graham Potter|    Miami University|Building and Grou...|Assoc VP Housing,...|   3075.2|2012|\n",
      "|       Amanda Potter|The Ohio State Un...| Program Coordinator|       WCA-Education| 48806.72|2013|\n",
      "|  Susan Marie Potter|The Ohio State Un...|     Program Manager|  College of Nursing|  65216.0|2013|\n",
      "|      Katrina Potter|    Miami University|Personnel Technician|VP for Acad Affrs...| 24324.14|2012|\n",
      "|  Pamela Lynn Potter|Bowling Green Sta...|Administrative As...|Center for Teachi...| 51496.58|2012|\n",
      "|   Kimberly J Potter|The Ohio State Un...|Policy Anlyst/Com...|Legal Affairs Adm...|  20868.0|2015|\n",
      "|         Adam Potter|The Ohio State Un...|Assistant Profess...|Medicine | IM Car...|182512.15|2022|\n",
      "|        Maria Potter|Central State Uni...| Program Coordinator|SAFRA: 2018-2019 ...| 39999.96|2018|\n",
      "|        Scott Potter|The Ohio State Un...|         Director-00|          University|254467.84|2021|\n",
      "|       Ryan M Potter|The Ohio State Un...|     Assistant Coach|           Athletics|  48863.8|2013|\n",
      "|       Archie Potter|     Ohio University|         Facilitator|LLL Undergrad Online|   2450.0|2014|\n",
      "|     Jesse W. Potter|Youngstown State ...|  Assistant Director|Athletic Administ...|  45547.2|2015|\n",
      "|          Kim Potter|The Ohio State Un...|         Director-00|          University|125232.25|2021|\n",
      "|   Carol Jean Potter|The Ohio State Un...|Associate Profess...|          Pediatrics| 28444.65|2015|\n",
      "|     Kimberly Potter|The Ohio State Un...|         Director-00|Legal Affairs Adm...| 109248.0|2020|\n",
      "|Richard Scott Potter|The Ohio State Un...| Research Specialist|Office of Energy ...| 130120.0|2013|\n",
      "+--------------------+--------------------+--------------------+--------------------+---------+----+\n",
      "only showing top 20 rows\n",
      "\n"
     ]
    }
   ],
   "source": [
    "## Read the dataset\n",
    "spark.read.option('header','true').csv('higher_ed_employee_salaries.csv').show()"
   ]
  },
  {
   "cell_type": "code",
   "execution_count": 76,
   "id": "3845c619-a111-4eed-93a0-01515965e786",
   "metadata": {
    "tags": []
   },
   "outputs": [],
   "source": [
    "df_pyspark = spark.read.option('header','true').csv('higher_ed_employee_salaries.csv',inferSchema=True)"
   ]
  },
  {
   "cell_type": "code",
   "execution_count": 77,
   "id": "501a31e7-ea1c-4383-a8f6-9e6270b9dc66",
   "metadata": {
    "tags": []
   },
   "outputs": [
    {
     "name": "stdout",
     "output_type": "stream",
     "text": [
      "root\n",
      " |-- Name: string (nullable = true)\n",
      " |-- School: string (nullable = true)\n",
      " |-- Job Description: string (nullable = true)\n",
      " |-- Department: string (nullable = true)\n",
      " |-- Earnings: double (nullable = true)\n",
      " |-- Year: integer (nullable = true)\n",
      "\n"
     ]
    }
   ],
   "source": [
    "### check schema (.info())\n",
    "df_pyspark.printSchema()"
   ]
  },
  {
   "cell_type": "code",
   "execution_count": 78,
   "id": "1ee1375f-9eea-428a-a5c6-159f9d45a8bf",
   "metadata": {
    "tags": []
   },
   "outputs": [],
   "source": [
    "df_pyspark = spark.read.options(header=True, inferSchema=True).csv('higher_ed_employee_salaries.csv')"
   ]
  },
  {
   "cell_type": "code",
   "execution_count": 79,
   "id": "9792d70b-b484-4716-b62d-3a1784fc3cb8",
   "metadata": {
    "tags": []
   },
   "outputs": [
    {
     "name": "stdout",
     "output_type": "stream",
     "text": [
      "+--------------------+--------------------+--------------------+--------------------+---------+----+\n",
      "|                Name|              School|     Job Description|          Department| Earnings|Year|\n",
      "+--------------------+--------------------+--------------------+--------------------+---------+----+\n",
      "|          Don Potter| University of Akron|  Assistant Lecturer|         Social Work|   2472.0|2019|\n",
      "|        Emily Potter|The Ohio State Un...|Administrative As...|Arts and Sciences...| 48538.02|2022|\n",
      "|   Carol Jean Potter|The Ohio State Un...|Associate Profess...|          Pediatrics|  22722.8|2013|\n",
      "|          Kim Potter|The Ohio State Un...|Manager 4, Compli...|Legal Affairs | C...|170143.44|2022|\n",
      "|       Graham Potter|    Miami University|Building and Grou...|Assoc VP Housing,...|   3075.2|2012|\n",
      "|       Amanda Potter|The Ohio State Un...| Program Coordinator|       WCA-Education| 48806.72|2013|\n",
      "|  Susan Marie Potter|The Ohio State Un...|     Program Manager|  College of Nursing|  65216.0|2013|\n",
      "|      Katrina Potter|    Miami University|Personnel Technician|VP for Acad Affrs...| 24324.14|2012|\n",
      "|  Pamela Lynn Potter|Bowling Green Sta...|Administrative As...|Center for Teachi...| 51496.58|2012|\n",
      "|   Kimberly J Potter|The Ohio State Un...|Policy Anlyst/Com...|Legal Affairs Adm...|  20868.0|2015|\n",
      "|         Adam Potter|The Ohio State Un...|Assistant Profess...|Medicine | IM Car...|182512.15|2022|\n",
      "|        Maria Potter|Central State Uni...| Program Coordinator|SAFRA: 2018-2019 ...| 39999.96|2018|\n",
      "|        Scott Potter|The Ohio State Un...|         Director-00|          University|254467.84|2021|\n",
      "|       Ryan M Potter|The Ohio State Un...|     Assistant Coach|           Athletics|  48863.8|2013|\n",
      "|       Archie Potter|     Ohio University|         Facilitator|LLL Undergrad Online|   2450.0|2014|\n",
      "|     Jesse W. Potter|Youngstown State ...|  Assistant Director|Athletic Administ...|  45547.2|2015|\n",
      "|          Kim Potter|The Ohio State Un...|         Director-00|          University|125232.25|2021|\n",
      "|   Carol Jean Potter|The Ohio State Un...|Associate Profess...|          Pediatrics| 28444.65|2015|\n",
      "|     Kimberly Potter|The Ohio State Un...|         Director-00|Legal Affairs Adm...| 109248.0|2020|\n",
      "|Richard Scott Potter|The Ohio State Un...| Research Specialist|Office of Energy ...| 130120.0|2013|\n",
      "+--------------------+--------------------+--------------------+--------------------+---------+----+\n",
      "only showing top 20 rows\n",
      "\n"
     ]
    }
   ],
   "source": [
    "df_pyspark.show()"
   ]
  },
  {
   "cell_type": "code",
   "execution_count": 80,
   "id": "4ebb282e-bb43-411e-beb8-2c4514d2c383",
   "metadata": {
    "tags": []
   },
   "outputs": [
    {
     "name": "stdout",
     "output_type": "stream",
     "text": [
      "root\n",
      " |-- Name: string (nullable = true)\n",
      " |-- School: string (nullable = true)\n",
      " |-- Job Description: string (nullable = true)\n",
      " |-- Department: string (nullable = true)\n",
      " |-- Earnings: double (nullable = true)\n",
      " |-- Year: integer (nullable = true)\n",
      "\n"
     ]
    }
   ],
   "source": [
    "df_pyspark.printSchema()"
   ]
  },
  {
   "cell_type": "code",
   "execution_count": 81,
   "id": "a50962ec-be4b-49e8-8473-bfbd531028d9",
   "metadata": {
    "tags": []
   },
   "outputs": [
    {
     "name": "stdout",
     "output_type": "stream",
     "text": [
      "+--------------------+--------------------+--------------------+--------------------+---------+----+\n",
      "|                Name|              School|     Job Description|          Department| Earnings|Year|\n",
      "+--------------------+--------------------+--------------------+--------------------+---------+----+\n",
      "|          Don Potter| University of Akron|  Assistant Lecturer|         Social Work|   2472.0|2019|\n",
      "|        Emily Potter|The Ohio State Un...|Administrative As...|Arts and Sciences...| 48538.02|2022|\n",
      "|   Carol Jean Potter|The Ohio State Un...|Associate Profess...|          Pediatrics|  22722.8|2013|\n",
      "|          Kim Potter|The Ohio State Un...|Manager 4, Compli...|Legal Affairs | C...|170143.44|2022|\n",
      "|       Graham Potter|    Miami University|Building and Grou...|Assoc VP Housing,...|   3075.2|2012|\n",
      "|       Amanda Potter|The Ohio State Un...| Program Coordinator|       WCA-Education| 48806.72|2013|\n",
      "|  Susan Marie Potter|The Ohio State Un...|     Program Manager|  College of Nursing|  65216.0|2013|\n",
      "|      Katrina Potter|    Miami University|Personnel Technician|VP for Acad Affrs...| 24324.14|2012|\n",
      "|  Pamela Lynn Potter|Bowling Green Sta...|Administrative As...|Center for Teachi...| 51496.58|2012|\n",
      "|   Kimberly J Potter|The Ohio State Un...|Policy Anlyst/Com...|Legal Affairs Adm...|  20868.0|2015|\n",
      "|         Adam Potter|The Ohio State Un...|Assistant Profess...|Medicine | IM Car...|182512.15|2022|\n",
      "|        Maria Potter|Central State Uni...| Program Coordinator|SAFRA: 2018-2019 ...| 39999.96|2018|\n",
      "|        Scott Potter|The Ohio State Un...|         Director-00|          University|254467.84|2021|\n",
      "|       Ryan M Potter|The Ohio State Un...|     Assistant Coach|           Athletics|  48863.8|2013|\n",
      "|       Archie Potter|     Ohio University|         Facilitator|LLL Undergrad Online|   2450.0|2014|\n",
      "|     Jesse W. Potter|Youngstown State ...|  Assistant Director|Athletic Administ...|  45547.2|2015|\n",
      "|          Kim Potter|The Ohio State Un...|         Director-00|          University|125232.25|2021|\n",
      "|   Carol Jean Potter|The Ohio State Un...|Associate Profess...|          Pediatrics| 28444.65|2015|\n",
      "|     Kimberly Potter|The Ohio State Un...|         Director-00|Legal Affairs Adm...| 109248.0|2020|\n",
      "|Richard Scott Potter|The Ohio State Un...| Research Specialist|Office of Energy ...| 130120.0|2013|\n",
      "+--------------------+--------------------+--------------------+--------------------+---------+----+\n",
      "only showing top 20 rows\n",
      "\n"
     ]
    }
   ],
   "source": [
    "df_pyspark = spark.read.csv('higher_ed_employee_salaries.csv',inferSchema=True, header=True)\n",
    "df_pyspark.show()"
   ]
  },
  {
   "cell_type": "code",
   "execution_count": 82,
   "id": "81c3558e-6f06-4b7a-a42e-31278004ffa3",
   "metadata": {
    "tags": []
   },
   "outputs": [
    {
     "name": "stdout",
     "output_type": "stream",
     "text": [
      "root\n",
      " |-- Name: string (nullable = true)\n",
      " |-- School: string (nullable = true)\n",
      " |-- Job Description: string (nullable = true)\n",
      " |-- Department: string (nullable = true)\n",
      " |-- Earnings: double (nullable = true)\n",
      " |-- Year: integer (nullable = true)\n",
      "\n"
     ]
    }
   ],
   "source": [
    "df_pyspark.printSchema()"
   ]
  },
  {
   "cell_type": "code",
   "execution_count": 83,
   "id": "eb817a44-f401-4027-a83c-5dd9eb0b2581",
   "metadata": {
    "tags": []
   },
   "outputs": [
    {
     "data": {
      "text/plain": [
       "pyspark.sql.dataframe.DataFrame"
      ]
     },
     "execution_count": 83,
     "metadata": {},
     "output_type": "execute_result"
    }
   ],
   "source": [
    "type(df_pyspark)"
   ]
  },
  {
   "cell_type": "code",
   "execution_count": 84,
   "id": "270aba50-62e4-4036-b40c-ff970b7e963f",
   "metadata": {
    "tags": []
   },
   "outputs": [
    {
     "data": {
      "text/plain": [
       "['Name', 'School', 'Job Description', 'Department', 'Earnings', 'Year']"
      ]
     },
     "execution_count": 84,
     "metadata": {},
     "output_type": "execute_result"
    }
   ],
   "source": [
    "df_pyspark.columns"
   ]
  },
  {
   "cell_type": "code",
   "execution_count": 85,
   "id": "e06b5e14-d40b-4645-b76b-ee1420bd6407",
   "metadata": {
    "tags": []
   },
   "outputs": [
    {
     "data": {
      "text/plain": [
       "[Row(Name='Don Potter', School='University of Akron', Job Description='Assistant Lecturer', Department='Social Work', Earnings=2472.0, Year=2019),\n",
       " Row(Name='Emily Potter', School='The Ohio State University', Job Description='Administrative Assistant 3', Department='Arts and Sciences | Chemistry and Biochemistry Administration', Earnings=48538.02, Year=2022),\n",
       " Row(Name='Carol Jean Potter', School='The Ohio State University', Job Description='Associate Professor-Clinical', Department='Pediatrics', Earnings=22722.8, Year=2013)]"
      ]
     },
     "execution_count": 85,
     "metadata": {},
     "output_type": "execute_result"
    }
   ],
   "source": [
    "df_pyspark.head(3)"
   ]
  },
  {
   "cell_type": "code",
   "execution_count": 86,
   "id": "33321ac9-b482-4c53-aed7-618f5a2b95d6",
   "metadata": {
    "tags": []
   },
   "outputs": [
    {
     "name": "stdout",
     "output_type": "stream",
     "text": [
      "+--------------------+--------------------+--------------------+--------------------+---------+----+\n",
      "|                Name|              School|     Job Description|          Department| Earnings|Year|\n",
      "+--------------------+--------------------+--------------------+--------------------+---------+----+\n",
      "|          Don Potter| University of Akron|  Assistant Lecturer|         Social Work|   2472.0|2019|\n",
      "|        Emily Potter|The Ohio State Un...|Administrative As...|Arts and Sciences...| 48538.02|2022|\n",
      "|   Carol Jean Potter|The Ohio State Un...|Associate Profess...|          Pediatrics|  22722.8|2013|\n",
      "|          Kim Potter|The Ohio State Un...|Manager 4, Compli...|Legal Affairs | C...|170143.44|2022|\n",
      "|       Graham Potter|    Miami University|Building and Grou...|Assoc VP Housing,...|   3075.2|2012|\n",
      "|       Amanda Potter|The Ohio State Un...| Program Coordinator|       WCA-Education| 48806.72|2013|\n",
      "|  Susan Marie Potter|The Ohio State Un...|     Program Manager|  College of Nursing|  65216.0|2013|\n",
      "|      Katrina Potter|    Miami University|Personnel Technician|VP for Acad Affrs...| 24324.14|2012|\n",
      "|  Pamela Lynn Potter|Bowling Green Sta...|Administrative As...|Center for Teachi...| 51496.58|2012|\n",
      "|   Kimberly J Potter|The Ohio State Un...|Policy Anlyst/Com...|Legal Affairs Adm...|  20868.0|2015|\n",
      "|         Adam Potter|The Ohio State Un...|Assistant Profess...|Medicine | IM Car...|182512.15|2022|\n",
      "|        Maria Potter|Central State Uni...| Program Coordinator|SAFRA: 2018-2019 ...| 39999.96|2018|\n",
      "|        Scott Potter|The Ohio State Un...|         Director-00|          University|254467.84|2021|\n",
      "|       Ryan M Potter|The Ohio State Un...|     Assistant Coach|           Athletics|  48863.8|2013|\n",
      "|       Archie Potter|     Ohio University|         Facilitator|LLL Undergrad Online|   2450.0|2014|\n",
      "|     Jesse W. Potter|Youngstown State ...|  Assistant Director|Athletic Administ...|  45547.2|2015|\n",
      "|          Kim Potter|The Ohio State Un...|         Director-00|          University|125232.25|2021|\n",
      "|   Carol Jean Potter|The Ohio State Un...|Associate Profess...|          Pediatrics| 28444.65|2015|\n",
      "|     Kimberly Potter|The Ohio State Un...|         Director-00|Legal Affairs Adm...| 109248.0|2020|\n",
      "|Richard Scott Potter|The Ohio State Un...| Research Specialist|Office of Energy ...| 130120.0|2013|\n",
      "+--------------------+--------------------+--------------------+--------------------+---------+----+\n",
      "only showing top 20 rows\n",
      "\n"
     ]
    }
   ],
   "source": [
    "df_pyspark.show()"
   ]
  },
  {
   "cell_type": "code",
   "execution_count": 87,
   "id": "509ad235-958c-4bf5-8ea0-f3053538915b",
   "metadata": {
    "tags": []
   },
   "outputs": [
    {
     "name": "stdout",
     "output_type": "stream",
     "text": [
      "+--------------------+\n",
      "|                Name|\n",
      "+--------------------+\n",
      "|          Don Potter|\n",
      "|        Emily Potter|\n",
      "|   Carol Jean Potter|\n",
      "|          Kim Potter|\n",
      "|       Graham Potter|\n",
      "|       Amanda Potter|\n",
      "|  Susan Marie Potter|\n",
      "|      Katrina Potter|\n",
      "|  Pamela Lynn Potter|\n",
      "|   Kimberly J Potter|\n",
      "|         Adam Potter|\n",
      "|        Maria Potter|\n",
      "|        Scott Potter|\n",
      "|       Ryan M Potter|\n",
      "|       Archie Potter|\n",
      "|     Jesse W. Potter|\n",
      "|          Kim Potter|\n",
      "|   Carol Jean Potter|\n",
      "|     Kimberly Potter|\n",
      "|Richard Scott Potter|\n",
      "+--------------------+\n",
      "only showing top 20 rows\n",
      "\n"
     ]
    }
   ],
   "source": [
    "df_pyspark.select('Name').show()"
   ]
  },
  {
   "cell_type": "code",
   "execution_count": 88,
   "id": "7efef090-57b4-4fc9-8124-f06d7bca59e8",
   "metadata": {
    "tags": []
   },
   "outputs": [
    {
     "name": "stdout",
     "output_type": "stream",
     "text": [
      "+--------------------+----+\n",
      "|                Name|Year|\n",
      "+--------------------+----+\n",
      "|          Don Potter|2019|\n",
      "|        Emily Potter|2022|\n",
      "|   Carol Jean Potter|2013|\n",
      "|          Kim Potter|2022|\n",
      "|       Graham Potter|2012|\n",
      "|       Amanda Potter|2013|\n",
      "|  Susan Marie Potter|2013|\n",
      "|      Katrina Potter|2012|\n",
      "|  Pamela Lynn Potter|2012|\n",
      "|   Kimberly J Potter|2015|\n",
      "|         Adam Potter|2022|\n",
      "|        Maria Potter|2018|\n",
      "|        Scott Potter|2021|\n",
      "|       Ryan M Potter|2013|\n",
      "|       Archie Potter|2014|\n",
      "|     Jesse W. Potter|2015|\n",
      "|          Kim Potter|2021|\n",
      "|   Carol Jean Potter|2015|\n",
      "|     Kimberly Potter|2020|\n",
      "|Richard Scott Potter|2013|\n",
      "+--------------------+----+\n",
      "only showing top 20 rows\n",
      "\n"
     ]
    }
   ],
   "source": [
    "df_pyspark.select(['Name','Year']).show()"
   ]
  },
  {
   "cell_type": "code",
   "execution_count": 89,
   "id": "75987679-4408-43d8-af5e-a2b18933efdc",
   "metadata": {
    "tags": []
   },
   "outputs": [
    {
     "data": {
      "text/plain": [
       "[('Name', 'string'),\n",
       " ('School', 'string'),\n",
       " ('Job Description', 'string'),\n",
       " ('Department', 'string'),\n",
       " ('Earnings', 'double'),\n",
       " ('Year', 'int')]"
      ]
     },
     "execution_count": 89,
     "metadata": {},
     "output_type": "execute_result"
    }
   ],
   "source": [
    "df_pyspark.dtypes"
   ]
  },
  {
   "cell_type": "code",
   "execution_count": 90,
   "id": "85360c68-c8d1-456a-88cc-744645f992b1",
   "metadata": {
    "tags": []
   },
   "outputs": [
    {
     "name": "stdout",
     "output_type": "stream",
     "text": [
      "+-------+---------------+--------------------+--------------------+--------------------+------------------+------------------+\n",
      "|summary|           Name|              School|     Job Description|          Department|          Earnings|              Year|\n",
      "+-------+---------------+--------------------+--------------------+--------------------+------------------+------------------+\n",
      "|  count|         934348|              934348|              907680|              873896|            924673|            934348|\n",
      "|   mean|           NULL|                NULL|2.6315789217894737E7|   945.9459459459459| 54659.12594471779|  2017.10282785429|\n",
      "| stddev|           NULL|                NULL| 4.524139237894834E7|  229.24343513512565|61373.982074523745|3.1839096224374432|\n",
      "|    min|     * Aparnnaa|Bowling Green Sta...|'Director of Ener...|#Knowmeansno 2017...|              0.02|              2011|\n",
      "|    max|zachariah brown|Youngstown State ...|temp Shuttle Bus ...|    iSchool MS Other|        8021376.56|              2022|\n",
      "+-------+---------------+--------------------+--------------------+--------------------+------------------+------------------+\n",
      "\n"
     ]
    }
   ],
   "source": [
    "df_pyspark.describe().show()"
   ]
  },
  {
   "cell_type": "code",
   "execution_count": 91,
   "id": "cc3e42e3-4b0b-4c01-be66-2a7ad7753804",
   "metadata": {
    "tags": []
   },
   "outputs": [
    {
     "name": "stdout",
     "output_type": "stream",
     "text": [
      "+--------------------+--------------------+--------------------+--------------------+---------+----+--------+\n",
      "|                Name|              School|     Job Description|          Department| Earnings|Year|Year + 2|\n",
      "+--------------------+--------------------+--------------------+--------------------+---------+----+--------+\n",
      "|          Don Potter| University of Akron|  Assistant Lecturer|         Social Work|   2472.0|2019|    2021|\n",
      "|        Emily Potter|The Ohio State Un...|Administrative As...|Arts and Sciences...| 48538.02|2022|    2024|\n",
      "|   Carol Jean Potter|The Ohio State Un...|Associate Profess...|          Pediatrics|  22722.8|2013|    2015|\n",
      "|          Kim Potter|The Ohio State Un...|Manager 4, Compli...|Legal Affairs | C...|170143.44|2022|    2024|\n",
      "|       Graham Potter|    Miami University|Building and Grou...|Assoc VP Housing,...|   3075.2|2012|    2014|\n",
      "|       Amanda Potter|The Ohio State Un...| Program Coordinator|       WCA-Education| 48806.72|2013|    2015|\n",
      "|  Susan Marie Potter|The Ohio State Un...|     Program Manager|  College of Nursing|  65216.0|2013|    2015|\n",
      "|      Katrina Potter|    Miami University|Personnel Technician|VP for Acad Affrs...| 24324.14|2012|    2014|\n",
      "|  Pamela Lynn Potter|Bowling Green Sta...|Administrative As...|Center for Teachi...| 51496.58|2012|    2014|\n",
      "|   Kimberly J Potter|The Ohio State Un...|Policy Anlyst/Com...|Legal Affairs Adm...|  20868.0|2015|    2017|\n",
      "|         Adam Potter|The Ohio State Un...|Assistant Profess...|Medicine | IM Car...|182512.15|2022|    2024|\n",
      "|        Maria Potter|Central State Uni...| Program Coordinator|SAFRA: 2018-2019 ...| 39999.96|2018|    2020|\n",
      "|        Scott Potter|The Ohio State Un...|         Director-00|          University|254467.84|2021|    2023|\n",
      "|       Ryan M Potter|The Ohio State Un...|     Assistant Coach|           Athletics|  48863.8|2013|    2015|\n",
      "|       Archie Potter|     Ohio University|         Facilitator|LLL Undergrad Online|   2450.0|2014|    2016|\n",
      "|     Jesse W. Potter|Youngstown State ...|  Assistant Director|Athletic Administ...|  45547.2|2015|    2017|\n",
      "|          Kim Potter|The Ohio State Un...|         Director-00|          University|125232.25|2021|    2023|\n",
      "|   Carol Jean Potter|The Ohio State Un...|Associate Profess...|          Pediatrics| 28444.65|2015|    2017|\n",
      "|     Kimberly Potter|The Ohio State Un...|         Director-00|Legal Affairs Adm...| 109248.0|2020|    2022|\n",
      "|Richard Scott Potter|The Ohio State Un...| Research Specialist|Office of Energy ...| 130120.0|2013|    2015|\n",
      "+--------------------+--------------------+--------------------+--------------------+---------+----+--------+\n",
      "only showing top 20 rows\n",
      "\n"
     ]
    }
   ],
   "source": [
    "### Adding Columns in data frames\n",
    "df_pyspark.withColumn('Year + 2',df_pyspark['Year'] +2).show()"
   ]
  },
  {
   "cell_type": "code",
   "execution_count": 92,
   "id": "db243018-9d16-4d7f-a586-f2594de1dedf",
   "metadata": {
    "tags": []
   },
   "outputs": [
    {
     "name": "stdout",
     "output_type": "stream",
     "text": [
      "+--------------------+--------------------+--------------------+--------------------+---------+----+\n",
      "|                Name|              School|     Job Description|          Department| Earnings|Year|\n",
      "+--------------------+--------------------+--------------------+--------------------+---------+----+\n",
      "|          Don Potter| University of Akron|  Assistant Lecturer|         Social Work|   2472.0|2019|\n",
      "|        Emily Potter|The Ohio State Un...|Administrative As...|Arts and Sciences...| 48538.02|2022|\n",
      "|   Carol Jean Potter|The Ohio State Un...|Associate Profess...|          Pediatrics|  22722.8|2013|\n",
      "|          Kim Potter|The Ohio State Un...|Manager 4, Compli...|Legal Affairs | C...|170143.44|2022|\n",
      "|       Graham Potter|    Miami University|Building and Grou...|Assoc VP Housing,...|   3075.2|2012|\n",
      "|       Amanda Potter|The Ohio State Un...| Program Coordinator|       WCA-Education| 48806.72|2013|\n",
      "|  Susan Marie Potter|The Ohio State Un...|     Program Manager|  College of Nursing|  65216.0|2013|\n",
      "|      Katrina Potter|    Miami University|Personnel Technician|VP for Acad Affrs...| 24324.14|2012|\n",
      "|  Pamela Lynn Potter|Bowling Green Sta...|Administrative As...|Center for Teachi...| 51496.58|2012|\n",
      "|   Kimberly J Potter|The Ohio State Un...|Policy Anlyst/Com...|Legal Affairs Adm...|  20868.0|2015|\n",
      "|         Adam Potter|The Ohio State Un...|Assistant Profess...|Medicine | IM Car...|182512.15|2022|\n",
      "|        Maria Potter|Central State Uni...| Program Coordinator|SAFRA: 2018-2019 ...| 39999.96|2018|\n",
      "|        Scott Potter|The Ohio State Un...|         Director-00|          University|254467.84|2021|\n",
      "|       Ryan M Potter|The Ohio State Un...|     Assistant Coach|           Athletics|  48863.8|2013|\n",
      "|       Archie Potter|     Ohio University|         Facilitator|LLL Undergrad Online|   2450.0|2014|\n",
      "|     Jesse W. Potter|Youngstown State ...|  Assistant Director|Athletic Administ...|  45547.2|2015|\n",
      "|          Kim Potter|The Ohio State Un...|         Director-00|          University|125232.25|2021|\n",
      "|   Carol Jean Potter|The Ohio State Un...|Associate Profess...|          Pediatrics| 28444.65|2015|\n",
      "|     Kimberly Potter|The Ohio State Un...|         Director-00|Legal Affairs Adm...| 109248.0|2020|\n",
      "|Richard Scott Potter|The Ohio State Un...| Research Specialist|Office of Energy ...| 130120.0|2013|\n",
      "+--------------------+--------------------+--------------------+--------------------+---------+----+\n",
      "only showing top 20 rows\n",
      "\n"
     ]
    }
   ],
   "source": [
    "df_pyspark.show()"
   ]
  },
  {
   "cell_type": "code",
   "execution_count": 93,
   "id": "7a16bbd4-b161-41c0-830f-bfc353808aee",
   "metadata": {
    "tags": []
   },
   "outputs": [],
   "source": [
    "df_pyspark = df_pyspark.withColumn('Year + 2', df_pyspark['Year'] + 2)"
   ]
  },
  {
   "cell_type": "code",
   "execution_count": 94,
   "id": "1ec01127-bcd9-4f80-b145-85fbd00af008",
   "metadata": {
    "tags": []
   },
   "outputs": [
    {
     "name": "stdout",
     "output_type": "stream",
     "text": [
      "+--------------------+--------------------+--------------------+--------------------+---------+----+--------+\n",
      "|                Name|              School|     Job Description|          Department| Earnings|Year|Year + 2|\n",
      "+--------------------+--------------------+--------------------+--------------------+---------+----+--------+\n",
      "|          Don Potter| University of Akron|  Assistant Lecturer|         Social Work|   2472.0|2019|    2021|\n",
      "|        Emily Potter|The Ohio State Un...|Administrative As...|Arts and Sciences...| 48538.02|2022|    2024|\n",
      "|   Carol Jean Potter|The Ohio State Un...|Associate Profess...|          Pediatrics|  22722.8|2013|    2015|\n",
      "|          Kim Potter|The Ohio State Un...|Manager 4, Compli...|Legal Affairs | C...|170143.44|2022|    2024|\n",
      "|       Graham Potter|    Miami University|Building and Grou...|Assoc VP Housing,...|   3075.2|2012|    2014|\n",
      "|       Amanda Potter|The Ohio State Un...| Program Coordinator|       WCA-Education| 48806.72|2013|    2015|\n",
      "|  Susan Marie Potter|The Ohio State Un...|     Program Manager|  College of Nursing|  65216.0|2013|    2015|\n",
      "|      Katrina Potter|    Miami University|Personnel Technician|VP for Acad Affrs...| 24324.14|2012|    2014|\n",
      "|  Pamela Lynn Potter|Bowling Green Sta...|Administrative As...|Center for Teachi...| 51496.58|2012|    2014|\n",
      "|   Kimberly J Potter|The Ohio State Un...|Policy Anlyst/Com...|Legal Affairs Adm...|  20868.0|2015|    2017|\n",
      "|         Adam Potter|The Ohio State Un...|Assistant Profess...|Medicine | IM Car...|182512.15|2022|    2024|\n",
      "|        Maria Potter|Central State Uni...| Program Coordinator|SAFRA: 2018-2019 ...| 39999.96|2018|    2020|\n",
      "|        Scott Potter|The Ohio State Un...|         Director-00|          University|254467.84|2021|    2023|\n",
      "|       Ryan M Potter|The Ohio State Un...|     Assistant Coach|           Athletics|  48863.8|2013|    2015|\n",
      "|       Archie Potter|     Ohio University|         Facilitator|LLL Undergrad Online|   2450.0|2014|    2016|\n",
      "|     Jesse W. Potter|Youngstown State ...|  Assistant Director|Athletic Administ...|  45547.2|2015|    2017|\n",
      "|          Kim Potter|The Ohio State Un...|         Director-00|          University|125232.25|2021|    2023|\n",
      "|   Carol Jean Potter|The Ohio State Un...|Associate Profess...|          Pediatrics| 28444.65|2015|    2017|\n",
      "|     Kimberly Potter|The Ohio State Un...|         Director-00|Legal Affairs Adm...| 109248.0|2020|    2022|\n",
      "|Richard Scott Potter|The Ohio State Un...| Research Specialist|Office of Energy ...| 130120.0|2013|    2015|\n",
      "+--------------------+--------------------+--------------------+--------------------+---------+----+--------+\n",
      "only showing top 20 rows\n",
      "\n"
     ]
    }
   ],
   "source": [
    "df_pyspark.show()"
   ]
  },
  {
   "cell_type": "code",
   "execution_count": 96,
   "id": "af1141b0-ed88-4408-a03e-4159b3998235",
   "metadata": {
    "tags": []
   },
   "outputs": [
    {
     "name": "stdout",
     "output_type": "stream",
     "text": [
      "+--------------------+--------------------+--------------------+--------------------+---------+----+\n",
      "|                Name|              School|     Job Description|          Department| Earnings|Year|\n",
      "+--------------------+--------------------+--------------------+--------------------+---------+----+\n",
      "|          Don Potter| University of Akron|  Assistant Lecturer|         Social Work|   2472.0|2019|\n",
      "|        Emily Potter|The Ohio State Un...|Administrative As...|Arts and Sciences...| 48538.02|2022|\n",
      "|   Carol Jean Potter|The Ohio State Un...|Associate Profess...|          Pediatrics|  22722.8|2013|\n",
      "|          Kim Potter|The Ohio State Un...|Manager 4, Compli...|Legal Affairs | C...|170143.44|2022|\n",
      "|       Graham Potter|    Miami University|Building and Grou...|Assoc VP Housing,...|   3075.2|2012|\n",
      "|       Amanda Potter|The Ohio State Un...| Program Coordinator|       WCA-Education| 48806.72|2013|\n",
      "|  Susan Marie Potter|The Ohio State Un...|     Program Manager|  College of Nursing|  65216.0|2013|\n",
      "|      Katrina Potter|    Miami University|Personnel Technician|VP for Acad Affrs...| 24324.14|2012|\n",
      "|  Pamela Lynn Potter|Bowling Green Sta...|Administrative As...|Center for Teachi...| 51496.58|2012|\n",
      "|   Kimberly J Potter|The Ohio State Un...|Policy Anlyst/Com...|Legal Affairs Adm...|  20868.0|2015|\n",
      "|         Adam Potter|The Ohio State Un...|Assistant Profess...|Medicine | IM Car...|182512.15|2022|\n",
      "|        Maria Potter|Central State Uni...| Program Coordinator|SAFRA: 2018-2019 ...| 39999.96|2018|\n",
      "|        Scott Potter|The Ohio State Un...|         Director-00|          University|254467.84|2021|\n",
      "|       Ryan M Potter|The Ohio State Un...|     Assistant Coach|           Athletics|  48863.8|2013|\n",
      "|       Archie Potter|     Ohio University|         Facilitator|LLL Undergrad Online|   2450.0|2014|\n",
      "|     Jesse W. Potter|Youngstown State ...|  Assistant Director|Athletic Administ...|  45547.2|2015|\n",
      "|          Kim Potter|The Ohio State Un...|         Director-00|          University|125232.25|2021|\n",
      "|   Carol Jean Potter|The Ohio State Un...|Associate Profess...|          Pediatrics| 28444.65|2015|\n",
      "|     Kimberly Potter|The Ohio State Un...|         Director-00|Legal Affairs Adm...| 109248.0|2020|\n",
      "|Richard Scott Potter|The Ohio State Un...| Research Specialist|Office of Energy ...| 130120.0|2013|\n",
      "+--------------------+--------------------+--------------------+--------------------+---------+----+\n",
      "only showing top 20 rows\n",
      "\n"
     ]
    }
   ],
   "source": [
    "### Dropping columns\n",
    "df_pyspark.drop('Year + 2').show()"
   ]
  },
  {
   "cell_type": "code",
   "execution_count": 97,
   "id": "2d294e00-cc91-4eda-a49f-15908c5adf83",
   "metadata": {
    "tags": []
   },
   "outputs": [],
   "source": [
    "df_pyspark = df_pyspark.drop('Year + 2')"
   ]
  },
  {
   "cell_type": "code",
   "execution_count": 98,
   "id": "7fae0b98-8946-4acd-82a6-a9ade12c3ee7",
   "metadata": {
    "tags": []
   },
   "outputs": [
    {
     "name": "stdout",
     "output_type": "stream",
     "text": [
      "+--------------------+--------------------+--------------------+--------------------+---------+----+\n",
      "|                Name|              School|     Job Description|          Department| Earnings|Year|\n",
      "+--------------------+--------------------+--------------------+--------------------+---------+----+\n",
      "|          Don Potter| University of Akron|  Assistant Lecturer|         Social Work|   2472.0|2019|\n",
      "|        Emily Potter|The Ohio State Un...|Administrative As...|Arts and Sciences...| 48538.02|2022|\n",
      "|   Carol Jean Potter|The Ohio State Un...|Associate Profess...|          Pediatrics|  22722.8|2013|\n",
      "|          Kim Potter|The Ohio State Un...|Manager 4, Compli...|Legal Affairs | C...|170143.44|2022|\n",
      "|       Graham Potter|    Miami University|Building and Grou...|Assoc VP Housing,...|   3075.2|2012|\n",
      "|       Amanda Potter|The Ohio State Un...| Program Coordinator|       WCA-Education| 48806.72|2013|\n",
      "|  Susan Marie Potter|The Ohio State Un...|     Program Manager|  College of Nursing|  65216.0|2013|\n",
      "|      Katrina Potter|    Miami University|Personnel Technician|VP for Acad Affrs...| 24324.14|2012|\n",
      "|  Pamela Lynn Potter|Bowling Green Sta...|Administrative As...|Center for Teachi...| 51496.58|2012|\n",
      "|   Kimberly J Potter|The Ohio State Un...|Policy Anlyst/Com...|Legal Affairs Adm...|  20868.0|2015|\n",
      "|         Adam Potter|The Ohio State Un...|Assistant Profess...|Medicine | IM Car...|182512.15|2022|\n",
      "|        Maria Potter|Central State Uni...| Program Coordinator|SAFRA: 2018-2019 ...| 39999.96|2018|\n",
      "|        Scott Potter|The Ohio State Un...|         Director-00|          University|254467.84|2021|\n",
      "|       Ryan M Potter|The Ohio State Un...|     Assistant Coach|           Athletics|  48863.8|2013|\n",
      "|       Archie Potter|     Ohio University|         Facilitator|LLL Undergrad Online|   2450.0|2014|\n",
      "|     Jesse W. Potter|Youngstown State ...|  Assistant Director|Athletic Administ...|  45547.2|2015|\n",
      "|          Kim Potter|The Ohio State Un...|         Director-00|          University|125232.25|2021|\n",
      "|   Carol Jean Potter|The Ohio State Un...|Associate Profess...|          Pediatrics| 28444.65|2015|\n",
      "|     Kimberly Potter|The Ohio State Un...|         Director-00|Legal Affairs Adm...| 109248.0|2020|\n",
      "|Richard Scott Potter|The Ohio State Un...| Research Specialist|Office of Energy ...| 130120.0|2013|\n",
      "+--------------------+--------------------+--------------------+--------------------+---------+----+\n",
      "only showing top 20 rows\n",
      "\n"
     ]
    }
   ],
   "source": [
    "df_pyspark.show()"
   ]
  },
  {
   "cell_type": "code",
   "execution_count": 99,
   "id": "d59102f7-c53a-4c29-ba31-ae5de7eb67ab",
   "metadata": {
    "tags": []
   },
   "outputs": [
    {
     "name": "stdout",
     "output_type": "stream",
     "text": [
      "+--------------------+--------------------+--------------------+--------------------+---------+----+\n",
      "|            New Name|              School|     Job Description|          Department| Earnings|Year|\n",
      "+--------------------+--------------------+--------------------+--------------------+---------+----+\n",
      "|          Don Potter| University of Akron|  Assistant Lecturer|         Social Work|   2472.0|2019|\n",
      "|        Emily Potter|The Ohio State Un...|Administrative As...|Arts and Sciences...| 48538.02|2022|\n",
      "|   Carol Jean Potter|The Ohio State Un...|Associate Profess...|          Pediatrics|  22722.8|2013|\n",
      "|          Kim Potter|The Ohio State Un...|Manager 4, Compli...|Legal Affairs | C...|170143.44|2022|\n",
      "|       Graham Potter|    Miami University|Building and Grou...|Assoc VP Housing,...|   3075.2|2012|\n",
      "|       Amanda Potter|The Ohio State Un...| Program Coordinator|       WCA-Education| 48806.72|2013|\n",
      "|  Susan Marie Potter|The Ohio State Un...|     Program Manager|  College of Nursing|  65216.0|2013|\n",
      "|      Katrina Potter|    Miami University|Personnel Technician|VP for Acad Affrs...| 24324.14|2012|\n",
      "|  Pamela Lynn Potter|Bowling Green Sta...|Administrative As...|Center for Teachi...| 51496.58|2012|\n",
      "|   Kimberly J Potter|The Ohio State Un...|Policy Anlyst/Com...|Legal Affairs Adm...|  20868.0|2015|\n",
      "|         Adam Potter|The Ohio State Un...|Assistant Profess...|Medicine | IM Car...|182512.15|2022|\n",
      "|        Maria Potter|Central State Uni...| Program Coordinator|SAFRA: 2018-2019 ...| 39999.96|2018|\n",
      "|        Scott Potter|The Ohio State Un...|         Director-00|          University|254467.84|2021|\n",
      "|       Ryan M Potter|The Ohio State Un...|     Assistant Coach|           Athletics|  48863.8|2013|\n",
      "|       Archie Potter|     Ohio University|         Facilitator|LLL Undergrad Online|   2450.0|2014|\n",
      "|     Jesse W. Potter|Youngstown State ...|  Assistant Director|Athletic Administ...|  45547.2|2015|\n",
      "|          Kim Potter|The Ohio State Un...|         Director-00|          University|125232.25|2021|\n",
      "|   Carol Jean Potter|The Ohio State Un...|Associate Profess...|          Pediatrics| 28444.65|2015|\n",
      "|     Kimberly Potter|The Ohio State Un...|         Director-00|Legal Affairs Adm...| 109248.0|2020|\n",
      "|Richard Scott Potter|The Ohio State Un...| Research Specialist|Office of Energy ...| 130120.0|2013|\n",
      "+--------------------+--------------------+--------------------+--------------------+---------+----+\n",
      "only showing top 20 rows\n",
      "\n"
     ]
    }
   ],
   "source": [
    "### Renaming Columns\n",
    "df_pyspark.withColumnRenamed('Name','New Name').show()"
   ]
  },
  {
   "cell_type": "markdown",
   "id": "89e5564f-2305-40d4-9603-f4f16b2ee8de",
   "metadata": {},
   "source": [
    "## Part 3"
   ]
  },
  {
   "cell_type": "code",
   "execution_count": 100,
   "id": "4793411e-86ba-43c8-9a4a-07a96c1fc913",
   "metadata": {
    "tags": []
   },
   "outputs": [],
   "source": [
    "import pyspark\n",
    "from pyspark.sql import SparkSession"
   ]
  },
  {
   "cell_type": "code",
   "execution_count": 101,
   "id": "e5e65788-f34d-453f-a399-4d947258dc5e",
   "metadata": {
    "tags": []
   },
   "outputs": [],
   "source": [
    "spark = SparkSession.builder.appName('Practice').getOrCreate()"
   ]
  },
  {
   "cell_type": "code",
   "execution_count": 102,
   "id": "46c5d23e-e611-469b-b8a9-d4d482b41cf4",
   "metadata": {
    "tags": []
   },
   "outputs": [
    {
     "data": {
      "text/html": [
       "\n",
       "            <div>\n",
       "                <p><b>SparkSession - in-memory</b></p>\n",
       "                \n",
       "        <div>\n",
       "            <p><b>SparkContext</b></p>\n",
       "\n",
       "            <p><a href=\"http://LAPTOP-T5AG69LI:4040\">Spark UI</a></p>\n",
       "\n",
       "            <dl>\n",
       "              <dt>Version</dt>\n",
       "                <dd><code>v3.5.1</code></dd>\n",
       "              <dt>Master</dt>\n",
       "                <dd><code>local[*]</code></dd>\n",
       "              <dt>AppName</dt>\n",
       "                <dd><code>Practise</code></dd>\n",
       "            </dl>\n",
       "        </div>\n",
       "        \n",
       "            </div>\n",
       "        "
      ],
      "text/plain": [
       "<pyspark.sql.session.SparkSession at 0x212df3be910>"
      ]
     },
     "execution_count": 102,
     "metadata": {},
     "output_type": "execute_result"
    }
   ],
   "source": [
    "spark"
   ]
  },
  {
   "cell_type": "code",
   "execution_count": 105,
   "id": "588af1a4-1319-40a8-914e-753ed47f6275",
   "metadata": {
    "tags": []
   },
   "outputs": [
    {
     "name": "stdout",
     "output_type": "stream",
     "text": [
      "+-----+----+----------+------+\n",
      "| Name| Age|Experience|Salary|\n",
      "+-----+----+----------+------+\n",
      "|Krish|  31|        10| 30000|\n",
      "|  Sam|  28|         8| 40000|\n",
      "| Adam|  27|         4| 45000|\n",
      "|Smith|  20|         3| 30000|\n",
      "| Paul|  24|         2| 70000|\n",
      "|  Mat|  21|         5| 34000|\n",
      "|  Bob|NULL|      NULL| 40000|\n",
      "| NULL|  34|        10| 80000|\n",
      "| NULL|  36|      NULL|  NULL|\n",
      "+-----+----+----------+------+\n",
      "\n"
     ]
    }
   ],
   "source": [
    "df_pyspark = spark.read.csv('Book1.csv', inferSchema=True, header=True)\n",
    "df_pyspark.show()"
   ]
  },
  {
   "cell_type": "code",
   "execution_count": 106,
   "id": "c4310e89-6c07-4a2f-a20b-e7af4afde735",
   "metadata": {
    "tags": []
   },
   "outputs": [
    {
     "name": "stdout",
     "output_type": "stream",
     "text": [
      "+----+----------+------+\n",
      "| Age|Experience|Salary|\n",
      "+----+----------+------+\n",
      "|  31|        10| 30000|\n",
      "|  28|         8| 40000|\n",
      "|  27|         4| 45000|\n",
      "|  20|         3| 30000|\n",
      "|  24|         2| 70000|\n",
      "|  21|         5| 34000|\n",
      "|NULL|      NULL| 40000|\n",
      "|  34|        10| 80000|\n",
      "|  36|      NULL|  NULL|\n",
      "+----+----------+------+\n",
      "\n"
     ]
    }
   ],
   "source": [
    "### drop the columns\n",
    "df_pyspark.drop('Name').show()"
   ]
  },
  {
   "cell_type": "code",
   "execution_count": 107,
   "id": "b721f5a8-1beb-428b-8ac0-86a6d5ecdca9",
   "metadata": {
    "tags": []
   },
   "outputs": [
    {
     "name": "stdout",
     "output_type": "stream",
     "text": [
      "+-----+---+----------+------+\n",
      "| Name|Age|Experience|Salary|\n",
      "+-----+---+----------+------+\n",
      "|Krish| 31|        10| 30000|\n",
      "|  Sam| 28|         8| 40000|\n",
      "| Adam| 27|         4| 45000|\n",
      "|Smith| 20|         3| 30000|\n",
      "| Paul| 24|         2| 70000|\n",
      "|  Mat| 21|         5| 34000|\n",
      "+-----+---+----------+------+\n",
      "\n"
     ]
    }
   ],
   "source": [
    "df_pyspark.na.drop().show()"
   ]
  },
  {
   "cell_type": "code",
   "execution_count": 108,
   "id": "79468e34-d350-4d61-84bb-d81760b38787",
   "metadata": {
    "tags": []
   },
   "outputs": [
    {
     "name": "stdout",
     "output_type": "stream",
     "text": [
      "+-----+---+----------+------+\n",
      "| Name|Age|Experience|Salary|\n",
      "+-----+---+----------+------+\n",
      "|Krish| 31|        10| 30000|\n",
      "|  Sam| 28|         8| 40000|\n",
      "| Adam| 27|         4| 45000|\n",
      "|Smith| 20|         3| 30000|\n",
      "| Paul| 24|         2| 70000|\n",
      "|  Mat| 21|         5| 34000|\n",
      "+-----+---+----------+------+\n",
      "\n"
     ]
    }
   ],
   "source": [
    "### any==how\n",
    "df_pyspark.na.drop(how='any').show()"
   ]
  },
  {
   "cell_type": "code",
   "execution_count": 109,
   "id": "85c7241b-3cd4-4729-a2da-b9dd1e46728b",
   "metadata": {
    "tags": []
   },
   "outputs": [
    {
     "name": "stdout",
     "output_type": "stream",
     "text": [
      "+-----+----+----------+------+\n",
      "| Name| Age|Experience|Salary|\n",
      "+-----+----+----------+------+\n",
      "|Krish|  31|        10| 30000|\n",
      "|  Sam|  28|         8| 40000|\n",
      "| Adam|  27|         4| 45000|\n",
      "|Smith|  20|         3| 30000|\n",
      "| Paul|  24|         2| 70000|\n",
      "|  Mat|  21|         5| 34000|\n",
      "|  Bob|NULL|      NULL| 40000|\n",
      "| NULL|  34|        10| 80000|\n",
      "+-----+----+----------+------+\n",
      "\n"
     ]
    }
   ],
   "source": [
    "##threshold\n",
    "df_pyspark.na.drop(how='any',thresh=2).show()"
   ]
  },
  {
   "cell_type": "code",
   "execution_count": 110,
   "id": "30092517-0eb9-4043-87ee-b02b476adc76",
   "metadata": {
    "tags": []
   },
   "outputs": [
    {
     "name": "stdout",
     "output_type": "stream",
     "text": [
      "+-----+---+----------+------+\n",
      "| Name|Age|Experience|Salary|\n",
      "+-----+---+----------+------+\n",
      "|Krish| 31|        10| 30000|\n",
      "|  Sam| 28|         8| 40000|\n",
      "| Adam| 27|         4| 45000|\n",
      "|Smith| 20|         3| 30000|\n",
      "| Paul| 24|         2| 70000|\n",
      "|  Mat| 21|         5| 34000|\n",
      "| NULL| 34|        10| 80000|\n",
      "+-----+---+----------+------+\n",
      "\n"
     ]
    }
   ],
   "source": [
    "###subset \n",
    "df_pyspark.na.drop(how='any', subset=['Experience']).show()"
   ]
  },
  {
   "cell_type": "code",
   "execution_count": 116,
   "id": "e6a4e892-4d1e-434d-83b2-08820342c97d",
   "metadata": {
    "tags": []
   },
   "outputs": [
    {
     "name": "stdout",
     "output_type": "stream",
     "text": [
      "root\n",
      " |-- Name: string (nullable = true)\n",
      " |-- Age: integer (nullable = true)\n",
      " |-- Experience: integer (nullable = true)\n",
      " |-- Salary: integer (nullable = true)\n",
      "\n"
     ]
    }
   ],
   "source": [
    "df_pyspark.printSchema()"
   ]
  },
  {
   "cell_type": "code",
   "execution_count": 121,
   "id": "1aa239ed-e033-4aef-8d3c-1d56cf7346bf",
   "metadata": {
    "tags": []
   },
   "outputs": [
    {
     "name": "stdout",
     "output_type": "stream",
     "text": [
      "+-----+---+----------+------+\n",
      "| Name|Age|Experience|Salary|\n",
      "+-----+---+----------+------+\n",
      "|Krish| 31|        10| 30000|\n",
      "|  Sam| 28|         8| 40000|\n",
      "| Adam| 27|         4| 45000|\n",
      "|Smith| 20|         3| 30000|\n",
      "| Paul| 24|         2| 70000|\n",
      "|  Mat| 21|         5| 34000|\n",
      "|  Bob|  1|         1| 40000|\n",
      "| NULL| 34|        10| 80000|\n",
      "| NULL| 36|         1|  NULL|\n",
      "+-----+---+----------+------+\n",
      "\n"
     ]
    }
   ],
   "source": [
    "### Filling missing values\n",
    "df_pyspark.na.fill(1,['Age','Experience']).show()"
   ]
  },
  {
   "cell_type": "code",
   "execution_count": 122,
   "id": "6d9aebeb-f886-4bfa-a666-65dfde13d463",
   "metadata": {
    "tags": []
   },
   "outputs": [
    {
     "name": "stdout",
     "output_type": "stream",
     "text": [
      "+-----+----+----------+------+\n",
      "| Name| Age|Experience|Salary|\n",
      "+-----+----+----------+------+\n",
      "|Krish|  31|        10| 30000|\n",
      "|  Sam|  28|         8| 40000|\n",
      "| Adam|  27|         4| 45000|\n",
      "|Smith|  20|         3| 30000|\n",
      "| Paul|  24|         2| 70000|\n",
      "|  Mat|  21|         5| 34000|\n",
      "|  Bob|NULL|      NULL| 40000|\n",
      "| NULL|  34|        10| 80000|\n",
      "| NULL|  36|      NULL|  NULL|\n",
      "+-----+----+----------+------+\n",
      "\n"
     ]
    }
   ],
   "source": [
    "df_pyspark.show()"
   ]
  },
  {
   "cell_type": "code",
   "execution_count": 123,
   "id": "09f06e04-69dd-4079-aadf-0155e3e2f53f",
   "metadata": {
    "tags": []
   },
   "outputs": [],
   "source": [
    "from pyspark.ml.feature import Imputer "
   ]
  },
  {
   "cell_type": "code",
   "execution_count": 127,
   "id": "1c8e0985-f6b9-4b14-b663-11b8741bf6e0",
   "metadata": {
    "tags": []
   },
   "outputs": [],
   "source": [
    "imputer = Imputer(inputCols=['Age','Experience','Salary'],outputCols=[f\"{x}_imputed\" for x in ['Age','Experience','Salary']]).setStrategy('median')"
   ]
  },
  {
   "cell_type": "code",
   "execution_count": 128,
   "id": "a79f7e85-db07-468a-83a0-072065103dd8",
   "metadata": {
    "tags": []
   },
   "outputs": [
    {
     "name": "stdout",
     "output_type": "stream",
     "text": [
      "+-----+----+----------+------+-----------+------------------+--------------+\n",
      "| Name| Age|Experience|Salary|Age_imputed|Experience_imputed|Salary_imputed|\n",
      "+-----+----+----------+------+-----------+------------------+--------------+\n",
      "|Krish|  31|        10| 30000|         31|                10|         30000|\n",
      "|  Sam|  28|         8| 40000|         28|                 8|         40000|\n",
      "| Adam|  27|         4| 45000|         27|                 4|         45000|\n",
      "|Smith|  20|         3| 30000|         20|                 3|         30000|\n",
      "| Paul|  24|         2| 70000|         24|                 2|         70000|\n",
      "|  Mat|  21|         5| 34000|         21|                 5|         34000|\n",
      "|  Bob|NULL|      NULL| 40000|         27|                 5|         40000|\n",
      "| NULL|  34|        10| 80000|         34|                10|         80000|\n",
      "| NULL|  36|      NULL|  NULL|         36|                 5|         40000|\n",
      "+-----+----+----------+------+-----------+------------------+--------------+\n",
      "\n"
     ]
    }
   ],
   "source": [
    "imputer.fit(df_pyspark).transform(df_pyspark).show()"
   ]
  },
  {
   "cell_type": "markdown",
   "id": "94b0d038-af85-46e8-8c33-b939a9c8c150",
   "metadata": {},
   "source": [
    "## Part 4"
   ]
  },
  {
   "cell_type": "code",
   "execution_count": 133,
   "id": "c6f37eaa-016f-4972-b806-e46c82f46bcc",
   "metadata": {
    "tags": []
   },
   "outputs": [],
   "source": [
    "from pyspark.sql import SparkSession "
   ]
  },
  {
   "cell_type": "code",
   "execution_count": 134,
   "id": "423052b1-a663-49dd-a8d3-68e20f51bdf5",
   "metadata": {
    "tags": []
   },
   "outputs": [],
   "source": [
    "spark = SparkSession.builder.appName(\"practice\").getOrCreate()"
   ]
  },
  {
   "cell_type": "code",
   "execution_count": 135,
   "id": "0de97a90-178e-42a4-8618-faeead25b5ed",
   "metadata": {
    "tags": []
   },
   "outputs": [
    {
     "name": "stdout",
     "output_type": "stream",
     "text": [
      "+--------------------+--------------------+--------------------+--------------------+---------+----+\n",
      "|                Name|              School|     Job Description|          Department| Earnings|Year|\n",
      "+--------------------+--------------------+--------------------+--------------------+---------+----+\n",
      "|          Don Potter| University of Akron|  Assistant Lecturer|         Social Work|   2472.0|2019|\n",
      "|        Emily Potter|The Ohio State Un...|Administrative As...|Arts and Sciences...| 48538.02|2022|\n",
      "|   Carol Jean Potter|The Ohio State Un...|Associate Profess...|          Pediatrics|  22722.8|2013|\n",
      "|          Kim Potter|The Ohio State Un...|Manager 4, Compli...|Legal Affairs | C...|170143.44|2022|\n",
      "|       Graham Potter|    Miami University|Building and Grou...|Assoc VP Housing,...|   3075.2|2012|\n",
      "|       Amanda Potter|The Ohio State Un...| Program Coordinator|       WCA-Education| 48806.72|2013|\n",
      "|  Susan Marie Potter|The Ohio State Un...|     Program Manager|  College of Nursing|  65216.0|2013|\n",
      "|      Katrina Potter|    Miami University|Personnel Technician|VP for Acad Affrs...| 24324.14|2012|\n",
      "|  Pamela Lynn Potter|Bowling Green Sta...|Administrative As...|Center for Teachi...| 51496.58|2012|\n",
      "|   Kimberly J Potter|The Ohio State Un...|Policy Anlyst/Com...|Legal Affairs Adm...|  20868.0|2015|\n",
      "|         Adam Potter|The Ohio State Un...|Assistant Profess...|Medicine | IM Car...|182512.15|2022|\n",
      "|        Maria Potter|Central State Uni...| Program Coordinator|SAFRA: 2018-2019 ...| 39999.96|2018|\n",
      "|        Scott Potter|The Ohio State Un...|         Director-00|          University|254467.84|2021|\n",
      "|       Ryan M Potter|The Ohio State Un...|     Assistant Coach|           Athletics|  48863.8|2013|\n",
      "|       Archie Potter|     Ohio University|         Facilitator|LLL Undergrad Online|   2450.0|2014|\n",
      "|     Jesse W. Potter|Youngstown State ...|  Assistant Director|Athletic Administ...|  45547.2|2015|\n",
      "|          Kim Potter|The Ohio State Un...|         Director-00|          University|125232.25|2021|\n",
      "|   Carol Jean Potter|The Ohio State Un...|Associate Profess...|          Pediatrics| 28444.65|2015|\n",
      "|     Kimberly Potter|The Ohio State Un...|         Director-00|Legal Affairs Adm...| 109248.0|2020|\n",
      "|Richard Scott Potter|The Ohio State Un...| Research Specialist|Office of Energy ...| 130120.0|2013|\n",
      "+--------------------+--------------------+--------------------+--------------------+---------+----+\n",
      "only showing top 20 rows\n",
      "\n"
     ]
    }
   ],
   "source": [
    "df_pyspark = spark.read.csv('higher_ed_employee_salaries.csv', inferSchema=True, header=True)\n",
    "df_pyspark.show()"
   ]
  },
  {
   "cell_type": "markdown",
   "id": "1fe0cd3f-f9d8-4d34-bdf1-204bd000a1d2",
   "metadata": {},
   "source": [
    "### Filter Operations"
   ]
  },
  {
   "cell_type": "code",
   "execution_count": 136,
   "id": "8c7acf86-075f-4212-995e-80abe332f11d",
   "metadata": {
    "tags": []
   },
   "outputs": [
    {
     "name": "stdout",
     "output_type": "stream",
     "text": [
      "+----------------+--------------------+--------------------+--------------------+--------+----+\n",
      "|            Name|              School|     Job Description|          Department|Earnings|Year|\n",
      "+----------------+--------------------+--------------------+--------------------+--------+----+\n",
      "|      Don Potter| University of Akron|  Assistant Lecturer|         Social Work|  2472.0|2019|\n",
      "|   Graham Potter|    Miami University|Building and Grou...|Assoc VP Housing,...|  3075.2|2012|\n",
      "|   Archie Potter|     Ohio University|         Facilitator|LLL Undergrad Online|  2450.0|2014|\n",
      "|   Graham Potter|    Miami University|Building and Grou...|Assoc VP Housing,...| 8031.69|2014|\n",
      "|Brianna M Potter|The Ohio State Un...|Clinical Inst HS ...|Vet Clinical Scie...|14601.25|2015|\n",
      "|  Theresa Potter|The Ohio State Un...|             Tutor 3|Undergraduate Edu...|   471.0|2022|\n",
      "|      Don Potter| University of Akron|  Assistant Lecturer|         Social Work|  2472.0|2018|\n",
      "|      Ana Potter|The Ohio State Un...|Patient Care Asso...|University Hospitals| 6583.86|2019|\n",
      "|Norman M. Potter|Kent State Univer...|Faculty Part-time...|Teaching, Learnin...|  3075.0|2021|\n",
      "| Jennifer Potter|     Ohio University|                NULL|Southern Campus D...|   600.0|2013|\n",
      "|Ana Maria Potter|The Ohio State Un...|Patient Care Asso...|University Hospitals| 6388.92|2018|\n",
      "|    Derek Potter|The Ohio State Un...|          Nursing-A4|  Gahanna Ambulatory| 7500.01|2020|\n",
      "|     Luke Potter|The Ohio State Un...|Patient Care Asso...|Cancer Hosp & Res...| 6784.69|2019|\n",
      "|  Nichole Potter|The Ohio State Un...|Patient Revenue C...|University Hospitals|  7895.5|2020|\n",
      "|    Debra Potter|Kent State Univer...|Faculty Part-Time...|CoN Accel Sec Degree| 5516.68|2022|\n",
      "|    Kaley Potter|     Ohio University|Associate Lab Man...|          PSYCHOLOGY|10455.45|2021|\n",
      "|   Archie Potter|     Ohio University|         Facilitator|LLL Undergrad Online| 5828.02|2015|\n",
      "|  Michael Potter|     Ohio University|                NULL|Ping Recreation C...| 4026.84|2015|\n",
      "| Jennifer Potter|     Ohio University|       SEMESTER APPT|       DEAN SOUTHERN|   540.0|2012|\n",
      "|   Graham Potter|    Miami University|Building and Grou...|Assoc VP Housing,...|18419.31|2013|\n",
      "+----------------+--------------------+--------------------+--------------------+--------+----+\n",
      "only showing top 20 rows\n",
      "\n"
     ]
    }
   ],
   "source": [
    "df_pyspark.filter(\"Earnings<=20000\").show()"
   ]
  },
  {
   "cell_type": "code",
   "execution_count": 137,
   "id": "d18a6a8a-dd06-48bc-b7d4-b3a411db671e",
   "metadata": {
    "tags": []
   },
   "outputs": [
    {
     "name": "stdout",
     "output_type": "stream",
     "text": [
      "+----------------+--------------------+\n",
      "|            Name|              School|\n",
      "+----------------+--------------------+\n",
      "|      Don Potter| University of Akron|\n",
      "|   Graham Potter|    Miami University|\n",
      "|   Archie Potter|     Ohio University|\n",
      "|   Graham Potter|    Miami University|\n",
      "|Brianna M Potter|The Ohio State Un...|\n",
      "|  Theresa Potter|The Ohio State Un...|\n",
      "|      Don Potter| University of Akron|\n",
      "|      Ana Potter|The Ohio State Un...|\n",
      "|Norman M. Potter|Kent State Univer...|\n",
      "| Jennifer Potter|     Ohio University|\n",
      "|Ana Maria Potter|The Ohio State Un...|\n",
      "|    Derek Potter|The Ohio State Un...|\n",
      "|     Luke Potter|The Ohio State Un...|\n",
      "|  Nichole Potter|The Ohio State Un...|\n",
      "|    Debra Potter|Kent State Univer...|\n",
      "|    Kaley Potter|     Ohio University|\n",
      "|   Archie Potter|     Ohio University|\n",
      "|  Michael Potter|     Ohio University|\n",
      "| Jennifer Potter|     Ohio University|\n",
      "|   Graham Potter|    Miami University|\n",
      "+----------------+--------------------+\n",
      "only showing top 20 rows\n",
      "\n"
     ]
    }
   ],
   "source": [
    "df_pyspark.filter(\"Earnings<=20000\").select(['Name','School']).show()"
   ]
  },
  {
   "cell_type": "code",
   "execution_count": 138,
   "id": "b8b30090-fbe8-4cf2-b97d-3addb194c6c9",
   "metadata": {
    "tags": []
   },
   "outputs": [
    {
     "name": "stdout",
     "output_type": "stream",
     "text": [
      "+----------------+--------------------+--------------------+--------------------+--------+----+\n",
      "|            Name|              School|     Job Description|          Department|Earnings|Year|\n",
      "+----------------+--------------------+--------------------+--------------------+--------+----+\n",
      "|      Don Potter| University of Akron|  Assistant Lecturer|         Social Work|  2472.0|2019|\n",
      "|   Graham Potter|    Miami University|Building and Grou...|Assoc VP Housing,...|  3075.2|2012|\n",
      "|   Archie Potter|     Ohio University|         Facilitator|LLL Undergrad Online|  2450.0|2014|\n",
      "|   Graham Potter|    Miami University|Building and Grou...|Assoc VP Housing,...| 8031.69|2014|\n",
      "|Brianna M Potter|The Ohio State Un...|Clinical Inst HS ...|Vet Clinical Scie...|14601.25|2015|\n",
      "|  Theresa Potter|The Ohio State Un...|             Tutor 3|Undergraduate Edu...|   471.0|2022|\n",
      "|      Don Potter| University of Akron|  Assistant Lecturer|         Social Work|  2472.0|2018|\n",
      "|      Ana Potter|The Ohio State Un...|Patient Care Asso...|University Hospitals| 6583.86|2019|\n",
      "|Norman M. Potter|Kent State Univer...|Faculty Part-time...|Teaching, Learnin...|  3075.0|2021|\n",
      "| Jennifer Potter|     Ohio University|                NULL|Southern Campus D...|   600.0|2013|\n",
      "|Ana Maria Potter|The Ohio State Un...|Patient Care Asso...|University Hospitals| 6388.92|2018|\n",
      "|    Derek Potter|The Ohio State Un...|          Nursing-A4|  Gahanna Ambulatory| 7500.01|2020|\n",
      "|     Luke Potter|The Ohio State Un...|Patient Care Asso...|Cancer Hosp & Res...| 6784.69|2019|\n",
      "|  Nichole Potter|The Ohio State Un...|Patient Revenue C...|University Hospitals|  7895.5|2020|\n",
      "|    Debra Potter|Kent State Univer...|Faculty Part-Time...|CoN Accel Sec Degree| 5516.68|2022|\n",
      "|    Kaley Potter|     Ohio University|Associate Lab Man...|          PSYCHOLOGY|10455.45|2021|\n",
      "|   Archie Potter|     Ohio University|         Facilitator|LLL Undergrad Online| 5828.02|2015|\n",
      "|  Michael Potter|     Ohio University|                NULL|Ping Recreation C...| 4026.84|2015|\n",
      "| Jennifer Potter|     Ohio University|       SEMESTER APPT|       DEAN SOUTHERN|   540.0|2012|\n",
      "|   Graham Potter|    Miami University|Building and Grou...|Assoc VP Housing,...|18419.31|2013|\n",
      "+----------------+--------------------+--------------------+--------------------+--------+----+\n",
      "only showing top 20 rows\n",
      "\n"
     ]
    }
   ],
   "source": [
    "df_pyspark.filter(df_pyspark['Earnings']<=20000).show()"
   ]
  },
  {
   "cell_type": "code",
   "execution_count": 139,
   "id": "1559a8bb-039c-4c5c-86ae-0ec1fa84ac42",
   "metadata": {
    "tags": []
   },
   "outputs": [
    {
     "name": "stdout",
     "output_type": "stream",
     "text": [
      "+--------------------+--------------------+--------------------+--------------------+--------+----+\n",
      "|                Name|              School|     Job Description|          Department|Earnings|Year|\n",
      "+--------------------+--------------------+--------------------+--------------------+--------+----+\n",
      "|    Brianna M Potter|The Ohio State Un...|Clinical Inst HS ...|Vet Clinical Scie...|14601.25|2015|\n",
      "|        Kaley Potter|     Ohio University|Associate Lab Man...|          PSYCHOLOGY|10455.45|2021|\n",
      "|       Graham Potter|    Miami University|Building and Grou...|Assoc VP Housing,...|18419.31|2013|\n",
      "|Elizabeth Ann Poe...|The Ohio State Un...|  Facilities Planner|  CFAES VP Operating| 19596.0|2014|\n",
      "| Donald Poffenberger|     Ohio University|                NULL|Arts and Sciences...| 12952.1|2013|\n",
      "| Donald Poffenberger|     Ohio University|                NULL|Arts and Sciences...|16291.51|2015|\n",
      "| Donald Poffenberger|     Ohio University|       SEMESTER APPT|    EA ARTS SCIENCES| 16342.5|2012|\n",
      "| Donald Poffenberger|     Ohio University|                NULL|Arts and Sciences...|16826.57|2014|\n",
      "|   Alan Manal Gergis|University of Toledo|  Research Assistant|        Pharmacology|10490.37|2012|\n",
      "|      Thomas Gerhard|    Miami University|Seasonal Asst Foo...|Intercoll Athleti...|11478.28|2019|\n",
      "|     Sascha Gerhards|    Miami University|Visiting Assistan...|Arts & Science Admin|19999.98|2013|\n",
      "|      Kenji Gerhardt|The Ohio State Un...|Research Assistan...|        Microbiology| 10764.0|2019|\n",
      "| Jon Stuart Gerhardt| University of Akron|                NULL|                NULL| 12000.0|2016|\n",
      "|Jessica Marie Ger...|Wright State Univ...|Coord RN and BSN ...|College of Nursin...|13655.74|2012|\n",
      "|        Sarah Maghes|The Ohio State Un...|Patient Care Asso...|University Hospit...|10242.18|2022|\n",
      "|        Sarah Maghes|The Ohio State Un...|Patient Care Asso...|       Health System|10067.48|2021|\n",
      "|      Douglas Magill| University of Akron|  Assistant Lecturer|           Marketing|14840.65|2019|\n",
      "|      Douglas Magill| University of Akron|       Research Asst|           Marketing| 12484.0|2020|\n",
      "|      Joseph Maglich|    Miami University|    Visiting Faculty|Kinesiology and H...|10090.77|2016|\n",
      "|Samuel Michael Ma...|The Ohio State Un...|Recreation Facili...|           Athletics| 13611.1|2018|\n",
      "+--------------------+--------------------+--------------------+--------------------+--------+----+\n",
      "only showing top 20 rows\n",
      "\n"
     ]
    }
   ],
   "source": [
    "df_pyspark.filter((df_pyspark['Earnings'] <= 20000) & (df_pyspark['Earnings'] >= 10000)).show()"
   ]
  },
  {
   "cell_type": "markdown",
   "id": "7af5b664-cbe5-4a7f-84a9-e8a606b5a139",
   "metadata": {},
   "source": [
    "## GroupBy and Aggregate Functions"
   ]
  },
  {
   "cell_type": "code",
   "execution_count": 140,
   "id": "8a19eb0b-b5b0-4cd0-b040-3f62832b393a",
   "metadata": {
    "tags": []
   },
   "outputs": [],
   "source": [
    "from pyspark.sql import SparkSession "
   ]
  },
  {
   "cell_type": "code",
   "execution_count": 141,
   "id": "bd90b722-5f94-46b9-a7a9-ef6a1d3f32d9",
   "metadata": {
    "tags": []
   },
   "outputs": [],
   "source": [
    "spark = SparkSession.builder.appName(\"Practice\").getOrCreate()"
   ]
  },
  {
   "cell_type": "code",
   "execution_count": 151,
   "id": "0105679a-b5fb-4b5d-96f7-c4bd4c53d690",
   "metadata": {
    "tags": []
   },
   "outputs": [
    {
     "data": {
      "text/html": [
       "\n",
       "            <div>\n",
       "                <p><b>SparkSession - in-memory</b></p>\n",
       "                \n",
       "        <div>\n",
       "            <p><b>SparkContext</b></p>\n",
       "\n",
       "            <p><a href=\"http://LAPTOP-T5AG69LI:4040\">Spark UI</a></p>\n",
       "\n",
       "            <dl>\n",
       "              <dt>Version</dt>\n",
       "                <dd><code>v3.5.1</code></dd>\n",
       "              <dt>Master</dt>\n",
       "                <dd><code>local[*]</code></dd>\n",
       "              <dt>AppName</dt>\n",
       "                <dd><code>Practise</code></dd>\n",
       "            </dl>\n",
       "        </div>\n",
       "        \n",
       "            </div>\n",
       "        "
      ],
      "text/plain": [
       "<pyspark.sql.session.SparkSession at 0x212df3be910>"
      ]
     },
     "execution_count": 151,
     "metadata": {},
     "output_type": "execute_result"
    }
   ],
   "source": [
    "spark"
   ]
  },
  {
   "cell_type": "code",
   "execution_count": 142,
   "id": "f2b17a55-f5dc-4a24-9112-ff2b8e85e6aa",
   "metadata": {
    "tags": []
   },
   "outputs": [],
   "source": [
    "df_pyspark = spark.read.csv('higher_ed_employee_salaries.csv', inferSchema=True, header=True)"
   ]
  },
  {
   "cell_type": "code",
   "execution_count": 143,
   "id": "6dcac8d9-3ac2-4497-b2e8-3dcd08fd5984",
   "metadata": {
    "tags": []
   },
   "outputs": [
    {
     "name": "stdout",
     "output_type": "stream",
     "text": [
      "+--------------------+--------------------+--------------------+--------------------+---------+----+\n",
      "|                Name|              School|     Job Description|          Department| Earnings|Year|\n",
      "+--------------------+--------------------+--------------------+--------------------+---------+----+\n",
      "|          Don Potter| University of Akron|  Assistant Lecturer|         Social Work|   2472.0|2019|\n",
      "|        Emily Potter|The Ohio State Un...|Administrative As...|Arts and Sciences...| 48538.02|2022|\n",
      "|   Carol Jean Potter|The Ohio State Un...|Associate Profess...|          Pediatrics|  22722.8|2013|\n",
      "|          Kim Potter|The Ohio State Un...|Manager 4, Compli...|Legal Affairs | C...|170143.44|2022|\n",
      "|       Graham Potter|    Miami University|Building and Grou...|Assoc VP Housing,...|   3075.2|2012|\n",
      "|       Amanda Potter|The Ohio State Un...| Program Coordinator|       WCA-Education| 48806.72|2013|\n",
      "|  Susan Marie Potter|The Ohio State Un...|     Program Manager|  College of Nursing|  65216.0|2013|\n",
      "|      Katrina Potter|    Miami University|Personnel Technician|VP for Acad Affrs...| 24324.14|2012|\n",
      "|  Pamela Lynn Potter|Bowling Green Sta...|Administrative As...|Center for Teachi...| 51496.58|2012|\n",
      "|   Kimberly J Potter|The Ohio State Un...|Policy Anlyst/Com...|Legal Affairs Adm...|  20868.0|2015|\n",
      "|         Adam Potter|The Ohio State Un...|Assistant Profess...|Medicine | IM Car...|182512.15|2022|\n",
      "|        Maria Potter|Central State Uni...| Program Coordinator|SAFRA: 2018-2019 ...| 39999.96|2018|\n",
      "|        Scott Potter|The Ohio State Un...|         Director-00|          University|254467.84|2021|\n",
      "|       Ryan M Potter|The Ohio State Un...|     Assistant Coach|           Athletics|  48863.8|2013|\n",
      "|       Archie Potter|     Ohio University|         Facilitator|LLL Undergrad Online|   2450.0|2014|\n",
      "|     Jesse W. Potter|Youngstown State ...|  Assistant Director|Athletic Administ...|  45547.2|2015|\n",
      "|          Kim Potter|The Ohio State Un...|         Director-00|          University|125232.25|2021|\n",
      "|   Carol Jean Potter|The Ohio State Un...|Associate Profess...|          Pediatrics| 28444.65|2015|\n",
      "|     Kimberly Potter|The Ohio State Un...|         Director-00|Legal Affairs Adm...| 109248.0|2020|\n",
      "|Richard Scott Potter|The Ohio State Un...| Research Specialist|Office of Energy ...| 130120.0|2013|\n",
      "+--------------------+--------------------+--------------------+--------------------+---------+----+\n",
      "only showing top 20 rows\n",
      "\n"
     ]
    }
   ],
   "source": [
    "df_pyspark.show()"
   ]
  },
  {
   "cell_type": "code",
   "execution_count": 144,
   "id": "5181737a-bf2d-4649-a6ed-1938c50039e1",
   "metadata": {
    "tags": []
   },
   "outputs": [
    {
     "name": "stdout",
     "output_type": "stream",
     "text": [
      "root\n",
      " |-- Name: string (nullable = true)\n",
      " |-- School: string (nullable = true)\n",
      " |-- Job Description: string (nullable = true)\n",
      " |-- Department: string (nullable = true)\n",
      " |-- Earnings: double (nullable = true)\n",
      " |-- Year: integer (nullable = true)\n",
      "\n"
     ]
    }
   ],
   "source": [
    "df_pyspark.printSchema()"
   ]
  },
  {
   "cell_type": "code",
   "execution_count": 146,
   "id": "9c94d03f-4782-4c22-a6b6-77fffc2901bc",
   "metadata": {
    "tags": []
   },
   "outputs": [
    {
     "data": {
      "text/plain": [
       "['Name', 'School', 'Job Description', 'Department', 'Earnings', 'Year']"
      ]
     },
     "execution_count": 146,
     "metadata": {},
     "output_type": "execute_result"
    }
   ],
   "source": [
    "df_pyspark.columns"
   ]
  },
  {
   "cell_type": "code",
   "execution_count": 147,
   "id": "1258b68d-43ad-45b7-b74c-9732bb5c6e21",
   "metadata": {
    "tags": []
   },
   "outputs": [
    {
     "data": {
      "text/plain": [
       "[('Name', 'string'),\n",
       " ('School', 'string'),\n",
       " ('Job Description', 'string'),\n",
       " ('Department', 'string'),\n",
       " ('Earnings', 'double'),\n",
       " ('Year', 'int')]"
      ]
     },
     "execution_count": 147,
     "metadata": {},
     "output_type": "execute_result"
    }
   ],
   "source": [
    "df_pyspark.dtypes"
   ]
  },
  {
   "cell_type": "code",
   "execution_count": 149,
   "id": "e5bb783d-8b1e-4bc2-aa3f-cba1153b2a0d",
   "metadata": {
    "tags": []
   },
   "outputs": [
    {
     "name": "stdout",
     "output_type": "stream",
     "text": [
      "+-------+---------------+--------------------+--------------------+--------------------+------------------+------------------+\n",
      "|summary|           Name|              School|     Job Description|          Department|          Earnings|              Year|\n",
      "+-------+---------------+--------------------+--------------------+--------------------+------------------+------------------+\n",
      "|  count|         934348|              934348|              907680|              873896|            924673|            934348|\n",
      "|   mean|           NULL|                NULL|2.6315789217894737E7|   945.9459459459459| 54659.12594471779|  2017.10282785429|\n",
      "| stddev|           NULL|                NULL| 4.524139237894834E7|  229.24343513512565|61373.982074523745|3.1839096224374432|\n",
      "|    min|     * Aparnnaa|Bowling Green Sta...|'Director of Ener...|#Knowmeansno 2017...|              0.02|              2011|\n",
      "|    max|zachariah brown|Youngstown State ...|temp Shuttle Bus ...|    iSchool MS Other|        8021376.56|              2022|\n",
      "+-------+---------------+--------------------+--------------------+--------------------+------------------+------------------+\n",
      "\n"
     ]
    }
   ],
   "source": [
    "df_pyspark.describe().show()"
   ]
  },
  {
   "cell_type": "code",
   "execution_count": 156,
   "id": "bef93026-6ff8-4cc4-a590-75286027651f",
   "metadata": {
    "tags": []
   },
   "outputs": [
    {
     "name": "stdout",
     "output_type": "stream",
     "text": [
      "+--------------------+------------------+---------+\n",
      "|                Name|     sum(Earnings)|sum(Year)|\n",
      "+--------------------+------------------+---------+\n",
      "|   Adil Sharag-Eldin|         125235.11|     2022|\n",
      "|           Jinha Lee|          201369.0|     6059|\n",
      "|       Jee Young Lee|         468191.32|    20180|\n",
      "|   Theresa E Snowden|         286284.99|    12093|\n",
      "|          Sadie Gunn|         277268.49|     8082|\n",
      "|         Jessie Wang|         861180.06|    10096|\n",
      "|Natisha Dee Denli...|282127.95999999996|    10078|\n",
      "|   Robert James Ward|          776236.0|    18146|\n",
      "|      Janie McCarthy|           16637.4|     4042|\n",
      "|       Jack L. Davis|         1293763.6|    14109|\n",
      "|Kylie Marie Salva...|2598.2500000000005|    10081|\n",
      "|    Sorby Sheryl Ann|         532808.28|     6062|\n",
      "|        Owens Albert|         245263.68|     4042|\n",
      "|    James M. Deweese|          257878.4|    18135|\n",
      "|Ewelina Skoracka-...|          69734.15|     8054|\n",
      "|        Dingjie Wang|          175536.7|    10096|\n",
      "|     Jennifer Hosier|           33750.0|     2022|\n",
      "|Angelic Shavonne ...|          52623.88|     4031|\n",
      "|          James Rose|         565481.25|    20181|\n",
      "|     W. Charles Rose|           78992.5|     4023|\n",
      "+--------------------+------------------+---------+\n",
      "only showing top 20 rows\n",
      "\n"
     ]
    }
   ],
   "source": [
    "df_pyspark.groupBy('Name').sum().show()"
   ]
  },
  {
   "cell_type": "code",
   "execution_count": 155,
   "id": "e6c51845-fbea-4636-bfff-22c9cc75ad66",
   "metadata": {
    "tags": []
   },
   "outputs": [
    {
     "name": "stdout",
     "output_type": "stream",
     "text": [
      "+--------------------+------------------+\n",
      "|                Name|     sum(Earnings)|\n",
      "+--------------------+------------------+\n",
      "|   Adil Sharag-Eldin|         125235.11|\n",
      "|           Jinha Lee|          201369.0|\n",
      "|       Jee Young Lee|         468191.32|\n",
      "|   Theresa E Snowden|         286284.99|\n",
      "|          Sadie Gunn|         277268.49|\n",
      "|         Jessie Wang|         861180.06|\n",
      "|Natisha Dee Denli...|282127.95999999996|\n",
      "|   Robert James Ward|          776236.0|\n",
      "|      Janie McCarthy|           16637.4|\n",
      "|       Jack L. Davis|         1293763.6|\n",
      "|Kylie Marie Salva...|2598.2500000000005|\n",
      "|    Sorby Sheryl Ann|         532808.28|\n",
      "|        Owens Albert|         245263.68|\n",
      "|    James M. Deweese|          257878.4|\n",
      "|Ewelina Skoracka-...|          69734.15|\n",
      "|        Dingjie Wang|          175536.7|\n",
      "|     Jennifer Hosier|           33750.0|\n",
      "|Angelic Shavonne ...|          52623.88|\n",
      "|          James Rose|         565481.25|\n",
      "|     W. Charles Rose|           78992.5|\n",
      "+--------------------+------------------+\n",
      "only showing top 20 rows\n",
      "\n"
     ]
    }
   ],
   "source": [
    "## groupby\n",
    "df_pyspark.groupBy('Name').sum('Earnings').show()"
   ]
  },
  {
   "cell_type": "code",
   "execution_count": 157,
   "id": "ad5511ea-c464-421d-aaf3-d0966d2f309b",
   "metadata": {
    "tags": []
   },
   "outputs": [
    {
     "name": "stdout",
     "output_type": "stream",
     "text": [
      "+--------------------+\n",
      "|       sum(Earnings)|\n",
      "+--------------------+\n",
      "|5.054181796468003E10|\n",
      "+--------------------+\n",
      "\n"
     ]
    }
   ],
   "source": [
    "df_pyspark.agg({'Earnings':'sum'}).show()"
   ]
  },
  {
   "cell_type": "code",
   "execution_count": 158,
   "id": "85a504d5-04e4-491d-baf6-4a534730d412",
   "metadata": {
    "tags": []
   },
   "outputs": [
    {
     "name": "stdout",
     "output_type": "stream",
     "text": [
      "+--------------------+------------------+\n",
      "|              School|     avg(Earnings)|\n",
      "+--------------------+------------------+\n",
      "|Shawnee State Uni...| 31387.01575900411|\n",
      "|University Of Cin...| 63213.39902334132|\n",
      "| University of Akron| 41407.28348631205|\n",
      "|     Ohio University| 49007.00529063546|\n",
      "|University of Toledo|51088.955126552944|\n",
      "|Wright State Univ...| 50714.43546736294|\n",
      "|Central State Uni...| 38968.91623002283|\n",
      "|Kent State Univer...|44468.285751957264|\n",
      "|The Ohio State Un...| 61318.96018123243|\n",
      "|Youngstown State ...| 27265.27913147411|\n",
      "|Bowling Green Sta...| 52098.55918083363|\n",
      "|Cleveland State U...|54164.395069356884|\n",
      "|    Miami University|  47123.9723481652|\n",
      "+--------------------+------------------+\n",
      "\n"
     ]
    }
   ],
   "source": [
    "df_pyspark.groupBy('School').agg({'Earnings':'mean'}).show()"
   ]
  },
  {
   "cell_type": "code",
   "execution_count": null,
   "id": "f5d6f2a2-46ef-4688-9c56-cbacb03c33c8",
   "metadata": {},
   "outputs": [],
   "source": []
  }
 ],
 "metadata": {
  "kernelspec": {
   "display_name": "PYSPARK_KERNEL",
   "language": "python",
   "name": "pyspark_kernel"
  },
  "language_info": {
   "codemirror_mode": {
    "name": "ipython",
    "version": 3
   },
   "file_extension": ".py",
   "mimetype": "text/x-python",
   "name": "python",
   "nbconvert_exporter": "python",
   "pygments_lexer": "ipython3",
   "version": "3.11.9"
  }
 },
 "nbformat": 4,
 "nbformat_minor": 5
}
